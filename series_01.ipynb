{
 "cells": [
  {
   "cell_type": "code",
   "execution_count": null,
   "id": "71025a10-2944-48fd-9da0-f846230b647b",
   "metadata": {},
   "outputs": [],
   "source": [
    "import pandas as pd\n",
    "import numpy as np"
   ]
  },
  {
   "cell_type": "markdown",
   "id": "b781e860-ac18-4b4a-bfe6-ac939769b5e5",
   "metadata": {},
   "source": [
    "# creating seires"
   ]
  },
  {
   "cell_type": "code",
   "execution_count": null,
   "id": "d0e0023d-0cb1-4988-b02d-7d312ca29480",
   "metadata": {},
   "outputs": [],
   "source": [
    "#using List\n",
    "var=[\"Maths\",\"science\",\"computer's\",\"social\",\"Gk\"]\n",
    "temp=pd.Series(var)\n",
    "temp"
   ]
  },
  {
   "cell_type": "code",
   "execution_count": null,
   "id": "8450823a-aaba-4816-a6ae-4243df3a32a9",
   "metadata": {},
   "outputs": [],
   "source": [
    "# custome index and name\n",
    "temp=pd.Series(var,index=[101,102,103,104,105],name=\"Subjects\")\n",
    "temp"
   ]
  },
  {
   "cell_type": "code",
   "execution_count": null,
   "id": "ce542d59-f940-4399-9871-deeb7163222e",
   "metadata": {},
   "outputs": [],
   "source": [
    "#using dict\n",
    "var1= {\"Ashu\": 89,\"Tom\" :84,\"Ram\" :90,\"Laxmi\":76, \"Raju\":45}\n",
    "temp2=pd.Series(var1,name='student_marks')\n",
    "temp2"
   ]
  },
  {
   "cell_type": "markdown",
   "id": "60ae2ac8-3ab3-4240-b63a-15c2ab16dc3e",
   "metadata": {},
   "source": [
    "# series Attributes"
   ]
  },
  {
   "cell_type": "code",
   "execution_count": null,
   "id": "b9e6579f-78b4-4b31-a7dc-19a2f776a870",
   "metadata": {},
   "outputs": [],
   "source": [
    "# size--> count of the items (includes nan values)\n",
    "temp2.size"
   ]
  },
  {
   "cell_type": "code",
   "execution_count": null,
   "id": "ecc40c42-472e-41e9-bf72-742a3fb041ee",
   "metadata": {},
   "outputs": [],
   "source": [
    "#dtype--> what kind of data stored in Series\n",
    "temp2.dtype"
   ]
  },
  {
   "cell_type": "code",
   "execution_count": null,
   "id": "eca12b43-2d3e-4341-951c-dce41857c0cf",
   "metadata": {},
   "outputs": [],
   "source": [
    "#name--->Just like column name\n",
    "temp2.name"
   ]
  },
  {
   "cell_type": "code",
   "execution_count": null,
   "id": "b019c46a-45c2-408d-a50a-7ebd507bdb42",
   "metadata": {},
   "outputs": [],
   "source": [
    "#is_unique--->if series contains unique values then returns the boolean value True if not False\n",
    "temp2.is_unique"
   ]
  },
  {
   "cell_type": "code",
   "execution_count": null,
   "id": "0390b17f-aa15-48d7-ad64-7eddcd49eab7",
   "metadata": {},
   "outputs": [],
   "source": [
    "#index--->(indexobject) returns index in List \n",
    "temp2.index"
   ]
  },
  {
   "cell_type": "code",
   "execution_count": null,
   "id": "2471fd96-439b-4bb6-a007-30f245a6eb25",
   "metadata": {},
   "outputs": [],
   "source": [
    "#values --->returns values \n",
    "temp2.values"
   ]
  },
  {
   "cell_type": "markdown",
   "id": "5bc0e8b8-895f-4034-a78f-9b27edbb8fd9",
   "metadata": {},
   "source": [
    "# Series using read_csv "
   ]
  },
  {
   "cell_type": "code",
   "execution_count": null,
   "id": "93cb5655-8465-4fff-acc2-146a85475825",
   "metadata": {},
   "outputs": [],
   "source": [
    "df=pd.read_csv(\"table2.csv\") #DataFrame\n",
    "a=df['Marks'] #Series\n",
    "a.index= df['Name'] #indexing\n",
    "a"
   ]
  },
  {
   "cell_type": "markdown",
   "id": "fdced387-2c50-427d-942f-e75ff5702024",
   "metadata": {},
   "source": [
    "# seires Method\n"
   ]
  },
  {
   "cell_type": "code",
   "execution_count": null,
   "id": "d70ce6a9-adeb-401a-a588-4a4a4281ab2f",
   "metadata": {},
   "outputs": [],
   "source": [
    "#head()-->displays top5 rows\n",
    "a.head()"
   ]
  },
  {
   "cell_type": "code",
   "execution_count": null,
   "id": "c8ab3142-7fd8-4732-b0b0-8e7b45a0a676",
   "metadata": {},
   "outputs": [],
   "source": [
    "#tail()-->displays bottom5 rows\n",
    "a.tail()"
   ]
  },
  {
   "cell_type": "code",
   "execution_count": null,
   "id": "0a476b33-c2d3-4d9d-b5a0-a037deb2352b",
   "metadata": {},
   "outputs": [],
   "source": [
    "#sample()---->displays Random values(by default one value will be return)\n",
    "a.sample()"
   ]
  },
  {
   "cell_type": "code",
   "execution_count": null,
   "id": "9f5e2102-ad8f-4df6-812b-865be8758c8c",
   "metadata": {},
   "outputs": [],
   "source": [
    "# value_counts()--->freqancy count of unique values\n",
    "a.value_counts() #default Descending order"
   ]
  },
  {
   "cell_type": "code",
   "execution_count": null,
   "id": "3541c974-48e4-44f4-9449-dbdd0253018f",
   "metadata": {},
   "outputs": [],
   "source": [
    "a.value_counts(ascending=True)"
   ]
  },
  {
   "cell_type": "code",
   "execution_count": null,
   "id": "b7a87edb-3e88-499a-b910-733b1fe4820b",
   "metadata": {},
   "outputs": [],
   "source": [
    "#sort_values()--->returns sorting order based on values\n",
    "a.sort_values() #ascending=False"
   ]
  },
  {
   "cell_type": "code",
   "execution_count": null,
   "id": "5be82e95-8600-402f-a3e6-b23e90ccc749",
   "metadata": {},
   "outputs": [],
   "source": [
    "#sort_index()-->returns sorted order based on index\n",
    "a.sort_index()#ascending=False"
   ]
  },
  {
   "cell_type": "markdown",
   "id": "c51c1dd5-43bb-4aa7-bf58-9f22ebc0eae8",
   "metadata": {},
   "source": [
    "# Maths methods"
   ]
  },
  {
   "cell_type": "code",
   "execution_count": null,
   "id": "58898af7-e127-4bf2-a04e-659c2c30915b",
   "metadata": {},
   "outputs": [],
   "source": [
    "#count() -->counts the number of values (exclude the Missing values) unlike \"size\" (includes missing values)\n",
    "a.count()"
   ]
  },
  {
   "cell_type": "code",
   "execution_count": null,
   "id": "7e9dffae-b94d-41da-8821-b2f2fce283f4",
   "metadata": {},
   "outputs": [],
   "source": [
    "#sum()--->sum of values\n",
    "#product()--->product of values\n",
    "a.sum()\n",
    "#a.product()"
   ]
  },
  {
   "cell_type": "code",
   "execution_count": null,
   "id": "3ed44817-ee87-41e6-b249-420f91afa583",
   "metadata": {},
   "outputs": [],
   "source": [
    "#Mean(),Median(),Mode()--->central tendancy \n",
    "print(\"Central Tendancy: \",[a.mean(),a.median(),a.mode()])\n"
   ]
  },
  {
   "cell_type": "code",
   "execution_count": null,
   "id": "ea4ee822-a740-4253-9750-56448de0c67c",
   "metadata": {},
   "outputs": [],
   "source": [
    "# standard Deviation, variance \n",
    "a.std()\n",
    "#a.var()"
   ]
  },
  {
   "cell_type": "code",
   "execution_count": null,
   "id": "884c8b6c-83d6-48ec-af0b-aa481e96cdeb",
   "metadata": {},
   "outputs": [],
   "source": [
    "#describe()---->summary of numeric values \n",
    "a.describe()"
   ]
  },
  {
   "cell_type": "markdown",
   "id": "d2429b23-6310-4dd5-a6a0-e16c1a5324dd",
   "metadata": {},
   "source": [
    "# series Indexing"
   ]
  },
  {
   "cell_type": "code",
   "execution_count": null,
   "id": "d5c88171-2828-404f-b4da-2df43e5e0ff1",
   "metadata": {},
   "outputs": [],
   "source": [
    "#Integer indexing--->fecthing single value\n",
    "a[0] #internally pandas asign integer values to index labels\n"
   ]
  },
  {
   "cell_type": "code",
   "execution_count": null,
   "id": "e4b49cb6-3d28-4132-9638-1091a332b559",
   "metadata": {},
   "outputs": [],
   "source": [
    "#Negative indexing\n",
    "a[-20]"
   ]
  },
  {
   "cell_type": "code",
   "execution_count": null,
   "id": "77614549-2015-4e16-bd6d-bd3e04c6ff6b",
   "metadata": {},
   "outputs": [],
   "source": [
    "#astype-->change the datatype (reduces the Memory Usage)\n",
    "a.info() #memory usage: 892.0+ bytes"
   ]
  },
  {
   "cell_type": "code",
   "execution_count": null,
   "id": "827d2e23-99d4-45af-9999-87751ecb1d61",
   "metadata": {},
   "outputs": [],
   "source": [
    "a.astype('int8').info() #memory usage: 745.0+ bytes"
   ]
  },
  {
   "cell_type": "code",
   "execution_count": null,
   "id": "9f8f122b-3bb2-4881-a7be-65ccc07bb592",
   "metadata": {},
   "outputs": [],
   "source": [
    "#between()-->returns True or false if existed\n",
    "a[a.between(60,90)]"
   ]
  },
  {
   "cell_type": "code",
   "execution_count": null,
   "id": "c3766355-058d-4ec4-8910-5957d420cfe0",
   "metadata": {},
   "outputs": [],
   "source": [
    "#clip()--->clip the values\n",
    "a.clip(60,90) #the values <60 will be replaced by 60 and >90 will replaced by 90"
   ]
  },
  {
   "cell_type": "code",
   "execution_count": null,
   "id": "f3378622-bf29-40d9-a6fc-3708069e0b9d",
   "metadata": {},
   "outputs": [],
   "source": [
    "#drop_duplicates()--->drop the duplicate values\n",
    "a.drop_duplicates(keep=\"last\") #default keep=\"first\""
   ]
  },
  {
   "cell_type": "code",
   "execution_count": null,
   "id": "cba8a39e-1ab9-4137-8e0d-20466b438846",
   "metadata": {},
   "outputs": [],
   "source": [
    "#duplicated()--->returns Trueif duplicate values are present if not return False\n",
    "#a.duplicated()\n",
    "a.duplicated().sum() #countof duplicated values"
   ]
  },
  {
   "cell_type": "code",
   "execution_count": null,
   "id": "62e075f2-a70f-4fda-8ac0-b4404db274d2",
   "metadata": {},
   "outputs": [],
   "source": [
    "#isnull--->returns True if null values are present\n",
    "#notnull-->returns True if null values are not existed\n",
    "a.isnull()\n",
    "#a.notnull()"
   ]
  },
  {
   "cell_type": "code",
   "execution_count": null,
   "id": "98e4e322-18ec-4fca-b045-fb5c0a288be0",
   "metadata": {},
   "outputs": [],
   "source": [
    "#dropna() --->drop/delete the null values\n",
    "'a.dropna()' #entire series will going to drop\n"
   ]
  },
  {
   "cell_type": "code",
   "execution_count": null,
   "id": "04dc3a6d-e48a-48d0-a8b9-5510ed7520f0",
   "metadata": {},
   "outputs": [],
   "source": [
    "#fillna()-->filling the null values with some value\n",
    "a.fillna(0) #if there is nan value it will replaced with 0"
   ]
  },
  {
   "cell_type": "code",
   "execution_count": null,
   "id": "e0b8f6d6-ac11-42a9-81d7-2bbd3619a483",
   "metadata": {},
   "outputs": [],
   "source": [
    "#isin()\n",
    "a.isin([0|15])"
   ]
  },
  {
   "cell_type": "code",
   "execution_count": null,
   "id": "017b4b65-3bb7-4d0a-87f4-13bd32fc50ab",
   "metadata": {},
   "outputs": [],
   "source": [
    "#appy()--->applying the custome logic \n",
    "a=a.apply(lambda x:x*2 )\n",
    "a"
   ]
  },
  {
   "cell_type": "markdown",
   "id": "0ab1138d-e951-490e-82f7-f26ff7dce780",
   "metadata": {},
   "source": [
    "# series slicing"
   ]
  },
  {
   "cell_type": "code",
   "execution_count": null,
   "id": "3d6d9c14-ad64-449c-9a95-a8927611d728",
   "metadata": {},
   "outputs": [],
   "source": [
    "#positive slicing---> fecthing mutliple values\n",
    "a[1:3] #excludes 3"
   ]
  },
  {
   "cell_type": "code",
   "execution_count": null,
   "id": "ae474ac4-cf45-4cf5-b8ac-77a30ae35b00",
   "metadata": {},
   "outputs": [],
   "source": [
    "#Negative indexing\n",
    "a[-5:-1]"
   ]
  },
  {
   "cell_type": "code",
   "execution_count": null,
   "id": "bb9dd796-3ad4-4477-8e94-668bca4078c7",
   "metadata": {},
   "outputs": [],
   "source": [
    "#fancy indexing\n",
    "a[[1,4,7,9]]"
   ]
  },
  {
   "cell_type": "code",
   "execution_count": null,
   "id": "01db5426-db69-4238-b126-3a44f211ce4b",
   "metadata": {},
   "outputs": [],
   "source": [
    "#indexing with labels\n",
    "a[\"Rohan\"]"
   ]
  },
  {
   "cell_type": "code",
   "execution_count": null,
   "id": "03607445-ebda-4cba-9767-2b239ba00f55",
   "metadata": {},
   "outputs": [],
   "source": [
    "#Editing Series\n",
    "a[\"Aisha\"]=1000 #update the existed value  in original series\n",
    "a"
   ]
  },
  {
   "cell_type": "code",
   "execution_count": null,
   "id": "01ea91c6-8512-4e4a-887c-5fad1690caf1",
   "metadata": {},
   "outputs": [],
   "source": [
    "a['Ashu']=20000 #if index not Existed ,new value will append\n",
    "a"
   ]
  },
  {
   "cell_type": "code",
   "execution_count": null,
   "id": "f2aea4dc-7e6b-41df-b5b6-ae25280ec936",
   "metadata": {},
   "outputs": [],
   "source": [
    "#updating values by slicing\n",
    "a[0:3]=-1000 #range of values are changed\n",
    "a"
   ]
  },
  {
   "cell_type": "code",
   "execution_count": null,
   "id": "53251285-4ead-49f4-a7c7-11207f173db6",
   "metadata": {},
   "outputs": [],
   "source": [
    "#by fancy indexing\n",
    "a[[0,2,3]]=[15,0,0]\n",
    "a"
   ]
  },
  {
   "cell_type": "code",
   "execution_count": null,
   "id": "ba34c71c-4020-41ed-b7cc-c7fef2f09b6d",
   "metadata": {},
   "outputs": [],
   "source": []
  }
 ],
 "metadata": {
  "kernelspec": {
   "display_name": "Python 3 (ipykernel)",
   "language": "python",
   "name": "python3"
  },
  "language_info": {
   "codemirror_mode": {
    "name": "ipython",
    "version": 3
   },
   "file_extension": ".py",
   "mimetype": "text/x-python",
   "name": "python",
   "nbconvert_exporter": "python",
   "pygments_lexer": "ipython3",
   "version": "3.11.7"
  }
 },
 "nbformat": 4,
 "nbformat_minor": 5
}
